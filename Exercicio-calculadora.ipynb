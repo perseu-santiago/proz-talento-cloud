{
 "cells": [
  {
   "cell_type": "code",
   "execution_count": 22,
   "metadata": {},
   "outputs": [
    {
     "data": {
      "text/plain": [
       "'Vixe! Não consigo dividir por 0. Sinto muito.'"
      ]
     },
     "execution_count": 22,
     "metadata": {},
     "output_type": "execute_result"
    }
   ],
   "source": [
    "'''\n",
    "Desenvolvimento\n",
    "Instruções do projeto\n",
    "Faça uma função calculadora de dois números com três parâmetros: os dois primeiros serão os números da operação e o terceiro será a entrada que definirá a operação a ser executada. Considera a seguinte definição:\n",
    "1. Soma\n",
    "2. Subtração\n",
    "3. Multiplicação\n",
    "4. Divisão\n",
    "\n",
    "Caso seja inserido um número de operação que não exista, o resultado deverá ser 0.\n",
    "'''\n",
    "\n",
    "# Versáo que tem que passar os parâmetros dentro dos parênteses.\n",
    "def calculadora_peruana(num_1, num_2, operacion):\n",
    "    if operacion == '+':\n",
    "        resultado = num_1 + num_2\n",
    "    elif operacion == '-':\n",
    "        resultado = num_1 - num_2\n",
    "    elif operacion == '*':\n",
    "        resultado = num_1 * num_2\n",
    "    elif operacion == '/':\n",
    "        if num_2 == 0:\n",
    "            return \"Vixe! Não consigo dividir por 0. Sinto muito.\"\n",
    "        resultado = num_1 / num_2\n",
    "    else:\n",
    "        return \"0\"\n",
    "        \n",
    "    return resultado\n",
    "\n",
    "calculadora_peruana(7, 0, \"/\")\n",
    "\n",
    "    "
   ]
  },
  {
   "cell_type": "code",
   "execution_count": 20,
   "metadata": {},
   "outputs": [
    {
     "name": "stdout",
     "output_type": "stream",
     "text": [
      "Escolha dentre as seguintes operações: Soma: [+] ; Subtração [-] ; Multiplicação: [*] ; Divisão: [/]\n"
     ]
    },
    {
     "data": {
      "text/plain": [
       "'Vixe! Não consigo dividir por 0. Sinto muito.'"
      ]
     },
     "execution_count": 20,
     "metadata": {},
     "output_type": "execute_result"
    }
   ],
   "source": [
    "# Versão que solicita as informações ao usuário.\n",
    "def calculadora_peruana():\n",
    "    num_1 = float(input('Digite o primeiro número: ´'))\n",
    "    num_2 = float(input('Digite o primeiro número: ´'))\n",
    "    print(\"Escolha dentre as seguintes operações: Soma: [+] ; Subtração [-] ; Multiplicação: [*] ; Divisão: [/]\", )\n",
    "    operacion = input('Digite o sinal da operação: ´')\n",
    "    if operacion == '+':\n",
    "        resultado = num_1 + num_2\n",
    "    elif operacion == '-':\n",
    "        resultado = num_1 - num_2\n",
    "    elif operacion == '*':\n",
    "        resultado = num_1 * num_2\n",
    "    elif operacion == '/':\n",
    "        if num_2 == 0:\n",
    "            return \"Vixe! Não consigo dividir por 0. Sinto muito.\"\n",
    "        resultado = num_1 / num_2\n",
    "    else:\n",
    "        return \"0\"\n",
    "        \n",
    "    return resultado\n",
    "\n",
    "calculadora_peruana()"
   ]
  }
 ],
 "metadata": {
  "kernelspec": {
   "display_name": "Python 3",
   "language": "python",
   "name": "python3"
  },
  "language_info": {
   "codemirror_mode": {
    "name": "ipython",
    "version": 3
   },
   "file_extension": ".py",
   "mimetype": "text/x-python",
   "name": "python",
   "nbconvert_exporter": "python",
   "pygments_lexer": "ipython3",
   "version": "3.11.5"
  },
  "orig_nbformat": 4
 },
 "nbformat": 4,
 "nbformat_minor": 2
}
