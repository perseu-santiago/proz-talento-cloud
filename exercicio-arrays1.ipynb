{
 "cells": [
  {
   "cell_type": "code",
   "execution_count": 4,
   "metadata": {},
   "outputs": [
    {
     "name": "stdout",
     "output_type": "stream",
     "text": [
      "['chocolate', 'sorvete', 'leite em pó', 'nescau', 'sabonete']\n"
     ]
    }
   ],
   "source": [
    "lista_produto = [\"chocolate\", \"sorvete\", \"leite em pó\", \"nescau\", \"sabonete\"]\n",
    "print(lista_produto)"
   ]
  },
  {
   "cell_type": "code",
   "execution_count": 3,
   "metadata": {},
   "outputs": [
    {
     "name": "stdout",
     "output_type": "stream",
     "text": [
      "[1990, 1992, 2000, 1981, 1991]\n"
     ]
    }
   ],
   "source": [
    "aniversario = [1990, 1992, 2000, 1981, 1991]\n",
    "print(aniversario)"
   ]
  },
  {
   "cell_type": "code",
   "execution_count": 11,
   "metadata": {},
   "outputs": [
    {
     "name": "stdout",
     "output_type": "stream",
     "text": [
      "A quantidade de itens do array é:  15\n",
      "Os valores dos itens 2, 9 e 14 do array lista_musicos são: Elis Regina ,  Moacir Santos e  Gal Costa.\n"
     ]
    }
   ],
   "source": [
    "lista_musicos = [ 'Djavan', 'Roberto Carlos', 'Elis Regina', 'Tom Jobim', 'Milton Nascimento', 'Chico Buarque', 'Nara Leão', 'Pitty', 'Simonal', 'Moacir Santos', 'Caetano Veloso', 'Elza Soares', 'Paulinho da Viola', 'Yamandú Costa', 'Gal Costa']\n",
    "# imprime a quantidade de itens contidos no array lista_musicos.\n",
    "print(\"A quantidade de itens do array é: \", len(lista_musicos)) \n",
    "# imprime o valor dos indices 2, 9 e 15 do array lista_musicos.\n",
    "print(\"Os valores dos itens 2, 9 e 14 do array lista_musicos são: \" + lista_musicos[2],\", \", lista_musicos[9],\"e \", lista_musicos[14]+\".\")"
   ]
  },
  {
   "cell_type": "code",
   "execution_count": 28,
   "metadata": {},
   "outputs": [
    {
     "name": "stdout",
     "output_type": "stream",
     "text": [
      "A quantidade de itens do array lista_num é: 15\n",
      "\n",
      "O valor do índice 0, é: 2\n",
      "O valor do índice 1, é: 45\n",
      "O valor do índice 2, é: 65\n",
      "O valor do índice 3, é: 78\n",
      "O valor do índice 4, é: 126\n",
      "O valor do índice 5, é: 987\n",
      "O valor do índice 6, é: 457\n",
      "O valor do índice 7, é: 345\n",
      "O valor do índice 8, é: 679\n",
      "O valor do índice 9, é: 107\n",
      "O valor do índice 10, é: 2345\n",
      "O valor do índice 11, é: 452\n",
      "O valor do índice 12, é: 3\n",
      "O valor do índice 13, é: 34\n",
      "O valor do índice 14, é: 560\n"
     ]
    }
   ],
   "source": [
    "lista_num = [2, 45, 65, 78, 126, 987, 457, 345, 679, 107, 2345, 452, 3, 34, 560]\n",
    "# imprime a quantidade de itens da lista.\n",
    "print(\"A quantidade de itens do array lista_num é:\", len(lista_num))\n",
    "print()\n",
    "# através da função range, usamos a variavél i para percorrer o array e imprimir cada valor.\n",
    "for i in range(len(lista_num)):\n",
    "    print(\"O valor do índice\", str(i) + \", é:\", lista_num[i])\n"
   ]
  },
  {
   "cell_type": "code",
   "execution_count": 35,
   "metadata": {},
   "outputs": [
    {
     "name": "stdout",
     "output_type": "stream",
     "text": [
      "Temos máscaras faciais à venda!\n",
      "Temos batons à venda!\n",
      "Temos esmaltes à venda!\n",
      "Temos perfumes à venda!\n",
      "Temos loções à venda!\n",
      "Temos xampus à venda!\n",
      "Temos sabonetes à venda!\n",
      "Temos delineadores à venda!\n"
     ]
    }
   ],
   "source": [
    "''' \n",
    "Uma nova loja de cosméticos abriu no seu bairro e pediram para você elaborar um sistema que imprime na tela na frente da loja os novos produtos que chegaram. O sistema da loja já tem um array com os produtos, você precisa apenas imprimir eles no terminal, um por um.\n",
    "\n",
    "Como desafio opcional, tente imprimir cada produto com a frase \"Temos [produto] à venda!\" (ex. \"Temos máscaras faciais à venda!\"). \n",
    "\n",
    "lista_produtos = ['máscaras faciais', 'batons', 'esmaltes', 'perfumes', 'loções', 'xampus', 'sabonetes', 'delineadores'] \n",
    "\n",
    "Trabalhe esse código no Google Colab, e compartilhe o link do projeto no campo ao lado para que outros desenvolvedores possam analisá-lo.    \n",
    "'''\n",
    "\n",
    "lista_produtos = ['máscaras faciais', 'batons', 'esmaltes', 'perfumes', 'loções', 'xampus', 'sabonetes', 'delineadores']\n",
    "# utilizamos a variavel i para percorrer o array lista_protudos para imprimirmos cada item.\n",
    "for i in range(len(lista_produtos)):\n",
    "    print(\"Temos \" + lista_produtos[i] +\" à venda!\")"
   ]
  }
 ],
 "metadata": {
  "kernelspec": {
   "display_name": "Python 3",
   "language": "python",
   "name": "python3"
  },
  "language_info": {
   "codemirror_mode": {
    "name": "ipython",
    "version": 3
   },
   "file_extension": ".py",
   "mimetype": "text/x-python",
   "name": "python",
   "nbconvert_exporter": "python",
   "pygments_lexer": "ipython3",
   "version": "3.11.5"
  },
  "orig_nbformat": 4
 },
 "nbformat": 4,
 "nbformat_minor": 2
}
