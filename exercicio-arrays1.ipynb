{
 "cells": [
  {
   "cell_type": "code",
   "execution_count": 4,
   "metadata": {},
   "outputs": [
    {
     "name": "stdout",
     "output_type": "stream",
     "text": [
      "['chocolate', 'sorvete', 'leite em pó', 'nescau', 'sabonete']\n"
     ]
    }
   ],
   "source": [
    "lista_produto = [\"chocolate\", \"sorvete\", \"leite em pó\", \"nescau\", \"sabonete\"]\n",
    "print(lista_produto)"
   ]
  },
  {
   "cell_type": "code",
   "execution_count": 3,
   "metadata": {},
   "outputs": [
    {
     "name": "stdout",
     "output_type": "stream",
     "text": [
      "[1990, 1992, 2000, 1981, 1991]\n"
     ]
    }
   ],
   "source": [
    "aniversario = [1990, 1992, 2000, 1981, 1991]\n",
    "print(aniversario)"
   ]
  },
  {
   "cell_type": "code",
   "execution_count": 11,
   "metadata": {},
   "outputs": [
    {
     "name": "stdout",
     "output_type": "stream",
     "text": [
      "A quantidade de itens do array é:  15\n",
      "Os valores dos itens 2, 9 e 14 do array lista_musicos são: Elis Regina ,  Moacir Santos e  Gal Costa.\n"
     ]
    }
   ],
   "source": [
    "lista_musicos = [ 'Djavan', 'Roberto Carlos', 'Elis Regina', 'Tom Jobim', 'Milton Nascimento', 'Chico Buarque', 'Nara Leão', 'Pitty', 'Simonal', 'Moacir Santos', 'Caetano Veloso', 'Elza Soares', 'Paulinho da Viola', 'Yamandú Costa', 'Gal Costa']\n",
    "# imprime a quantidade de itens contidos no array lista_musicos.\n",
    "print(\"A quantidade de itens do array é: \", len(lista_musicos)) \n",
    "# imprime o valor dos indices 2, 9 e 15 do array lista_musicos.\n",
    "print(\"Os valores dos itens 2, 9 e 14 do array lista_musicos são: \" + lista_musicos[2],\", \", lista_musicos[9],\"e \", lista_musicos[14]+\".\")"
   ]
  }
 ],
 "metadata": {
  "kernelspec": {
   "display_name": "Python 3",
   "language": "python",
   "name": "python3"
  },
  "language_info": {
   "codemirror_mode": {
    "name": "ipython",
    "version": 3
   },
   "file_extension": ".py",
   "mimetype": "text/x-python",
   "name": "python",
   "nbconvert_exporter": "python",
   "pygments_lexer": "ipython3",
   "version": "3.11.5"
  },
  "orig_nbformat": 4
 },
 "nbformat": 4,
 "nbformat_minor": 2
}
