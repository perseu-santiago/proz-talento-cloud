{
 "cells": [
  {
   "cell_type": "code",
   "execution_count": 4,
   "metadata": {},
   "outputs": [
    {
     "name": "stdout",
     "output_type": "stream",
     "text": [
      "['chocolate', 'sorvete', 'leite em pó', 'nescau', 'sabonete']\n"
     ]
    }
   ],
   "source": [
    "lista_produto = [\"chocolate\", \"sorvete\", \"leite em pó\", \"nescau\", \"sabonete\"]\n",
    "print(lista_produto)"
   ]
  },
  {
   "cell_type": "code",
   "execution_count": 3,
   "metadata": {},
   "outputs": [
    {
     "name": "stdout",
     "output_type": "stream",
     "text": [
      "[1990, 1992, 2000, 1981, 1991]\n"
     ]
    }
   ],
   "source": [
    "aniversario = [1990, 1992, 2000, 1981, 1991]\n",
    "print(aniversario)"
   ]
  }
 ],
 "metadata": {
  "kernelspec": {
   "display_name": "Python 3",
   "language": "python",
   "name": "python3"
  },
  "language_info": {
   "codemirror_mode": {
    "name": "ipython",
    "version": 3
   },
   "file_extension": ".py",
   "mimetype": "text/x-python",
   "name": "python",
   "nbconvert_exporter": "python",
   "pygments_lexer": "ipython3",
   "version": "3.11.5"
  },
  "orig_nbformat": 4
 },
 "nbformat": 4,
 "nbformat_minor": 2
}
