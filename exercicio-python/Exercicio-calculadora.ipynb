{
 "cells": [
  {
   "cell_type": "code",
   "execution_count": 22,
   "metadata": {},
   "outputs": [
    {
     "data": {
      "text/plain": [
       "'Vixe! Não consigo dividir por 0. Sinto muito.'"
      ]
     },
     "execution_count": 22,
     "metadata": {},
     "output_type": "execute_result"
    }
   ],
   "source": [
    "'''\n",
    "Desenvolvimento\n",
    "Instruções do projeto\n",
    "Faça uma função calculadora de dois números com três parâmetros: os dois primeiros serão os números da operação e o terceiro será a entrada que definirá a operação a ser executada. Considera a seguinte definição:\n",
    "1. Soma\n",
    "2. Subtração\n",
    "3. Multiplicação\n",
    "4. Divisão\n",
    "\n",
    "Caso seja inserido um número de operação que não exista, o resultado deverá ser 0.\n",
    "'''\n",
    "\n",
    "# Versáo que tem que passar os parâmetros dentro dos parênteses.\n",
    "def calculadora_peruana(num_1, num_2, operacion):\n",
    "    if operacion == '+':\n",
    "        resultado = num_1 + num_2\n",
    "    elif operacion == '-':\n",
    "        resultado = num_1 - num_2\n",
    "    elif operacion == '*':\n",
    "        resultado = num_1 * num_2\n",
    "    elif operacion == '/':\n",
    "        if num_2 == 0:\n",
    "            return \"Vixe! Não consigo dividir por 0. Sinto muito.\"\n",
    "        resultado = num_1 / num_2\n",
    "    else:\n",
    "        return \"0\"\n",
    "        \n",
    "    return resultado\n",
    "\n",
    "calculadora_peruana(7, 0, \"/\")\n",
    "\n",
    "    "
   ]
  },
  {
   "cell_type": "code",
   "execution_count": 100,
   "metadata": {},
   "outputs": [
    {
     "name": "stdout",
     "output_type": "stream",
     "text": [
      "Escolha dentre as seguintes operações: Soma: [+] ; Subtração [-] ; Multiplicação: [*] ; Divisão: [/]\n"
     ]
    },
    {
     "data": {
      "text/plain": [
       "('O resultado é:', 20.0)"
      ]
     },
     "execution_count": 100,
     "metadata": {},
     "output_type": "execute_result"
    }
   ],
   "source": [
    "# Versão que solicita as informações ao usuário.\n",
    "def calculadora_peruana():\n",
    "    print(\"Escolha dentre as seguintes operações: Soma: [+] ; Subtração [-] ; Multiplicação: [*] ; Divisão: [/]\", )\n",
    "    num_1 = float(input('Digite o primeiro número: ´'))\n",
    "    num_2 = float(input('Digite o segundo número: ´'))\n",
    "    operacion = input('Digite o sinal da operação: ´')\n",
    "    if operacion == '+':\n",
    "        resultado = num_1 + num_2\n",
    "    elif operacion == '-':\n",
    "        resultado = num_1 - num_2\n",
    "    elif operacion == '*':\n",
    "        resultado = num_1 * num_2\n",
    "    elif operacion == '/':\n",
    "        if num_2 == 0:\n",
    "            return \"Vixe! Não consigo dividir por 0. Sinto muito.\"\n",
    "        resultado = num_1 / num_2\n",
    "    else:\n",
    "        return \"0\"\n",
    "        \n",
    "    return \"O resultado é:\", resultado\n",
    "calculadora_peruana()"
   ]
  },
  {
   "cell_type": "code",
   "execution_count": 99,
   "metadata": {},
   "outputs": [
    {
     "name": "stdout",
     "output_type": "stream",
     "text": [
      "Escolha uma operação: \n",
      "\n",
      "Soma: +\n",
      "Subtração: -\n",
      "Multiplicação: *\n",
      "Divisão: /\n",
      "Sair: 0\n",
      "\n",
      "O resultado é: 20.0\n",
      "A função foi encerrada.\n"
     ]
    }
   ],
   "source": [
    "'''\n",
    "Faça uma função calculadora que os números e as operações serão feitas pelo usuário. O código deve ficar rodando infinitamente até que o usuário escolha a opção de sair. No início, o programa mostrará a seguinte lista de operações:\n",
    "\n",
    "1: Soma\n",
    "2: Subtração\n",
    "3: Multiplicação\n",
    "4: Divisão\n",
    "0: Sair\n",
    "\n",
    "Digite o número para a operação correspondente e caso o usuário introduza qualquer outro, o sistema deve mostrar a mensagem “Essa opção não existe” e voltar ao menu de opções.\n",
    "\n",
    "Após a seleção, o sistema deve pedir para o usuário inserir o primeiro e segundo valor, um de cada. Depois precisa executar a operação e mostrar o resultado na tela. Quando o usuário escolher a opção “Sair”, o sistema irá parar.\n",
    "\n",
    "É necessário que o sistema mostre as opções sempre que finalizar uma operação e mostrar o resultado. \n",
    "\n",
    "Trabalhe esse código em seu IDE, suba ele para sua conta no GitHub e compartilhe o link desse projeto no campo ao lado para que outros desenvolvedores possam analisá-lo.\n",
    "'''\n",
    "\n",
    "def calculadora_paraguaia():\n",
    "    print(\"Escolha uma operação: \")\n",
    "    print()\n",
    "    print(\"Soma: +\")\n",
    "    print(\"Subtração: -\")\n",
    "    print(\"Multiplicação: *\")\n",
    "    print(\"Divisão: /\")\n",
    "    print(\"Sair: 0\")\n",
    "    print()\n",
    "    encerrar = False  \n",
    "    while not encerrar:\n",
    "        operacion = input(\"Insira uma das seguintes operações ou digite '0' para sair.\")\n",
    "        if operacion == '0':\n",
    "            encerrar = True\n",
    "        else:\n",
    "            num_1 = float(input('Digite o primeiro número: ´'))\n",
    "            num_2 = float(input('Digite o segundo número: ´'))\n",
    "            if operacion == '+':\n",
    "                resultado = num_1 + num_2\n",
    "            elif operacion == '-':\n",
    "                resultado = num_1 - num_2\n",
    "            elif operacion == '*':\n",
    "                resultado = num_1 * num_2\n",
    "            elif operacion == '/':\n",
    "                if num_2 == 0:\n",
    "                    return \"Vixe! Não consigo dividir por 0. Sinto muito.\"\n",
    "                resultado = num_1 / num_2\n",
    "            else:\n",
    "                return \"Operador inválido!\"\n",
    "            print(\"O resultado é:\", resultado)\n",
    "\n",
    "    print(\"A função foi encerrada.\")\n",
    "calculadora_paraguaia()"
   ]
  }
 ],
 "metadata": {
  "kernelspec": {
   "display_name": "Python 3",
   "language": "python",
   "name": "python3"
  },
  "language_info": {
   "codemirror_mode": {
    "name": "ipython",
    "version": 3
   },
   "file_extension": ".py",
   "mimetype": "text/x-python",
   "name": "python",
   "nbconvert_exporter": "python",
   "pygments_lexer": "ipython3",
   "version": "3.11.5"
  },
  "orig_nbformat": 4
 },
 "nbformat": 4,
 "nbformat_minor": 2
}
