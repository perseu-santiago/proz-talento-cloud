{
 "cells": [
  {
   "cell_type": "code",
   "execution_count": 4,
   "metadata": {},
   "outputs": [
    {
     "name": "stdout",
     "output_type": "stream",
     "text": [
      "perseu\n",
      "Sua idade é:  31\n",
      "Beleza! Vamos continuar...\n",
      "nagila\n",
      "Sua idade é:  29\n",
      "Beleza! Vamos continuar...\n",
      "francisjohnson\n",
      "Você digitou um ano inválido. Por favor, insira um ano entre 1922 e 2021.\n",
      "Beleza! Vamos continuar...\n",
      "francisjohnson\n",
      "Opa, você digitou uma informação diferente da solicitada. Por favor, tente novamente.\n",
      "francisjohnson\n",
      "Sua idade é:  21\n",
      "Ok! Finalizamos.\n"
     ]
    }
   ],
   "source": [
    "'''\n",
    "Desenvolva um programa que recebe do usuário nome completo e ano de nascimento que seja entre 1922 e 2021.\n",
    "A partir dessas informações, o sistema mostrará o nome do usuário e a idade que completou, ou completará, no ano atual (2022).\n",
    "\n",
    "Caso o usuário não digite um número ou apareça um inválido no campo do ano, o sistema informará o erro e continuará perguntando até que um valor correto seja preenchido.\n",
    "\n",
    "Trabalhe esse código em seu IDE, suba ele para sua conta no GitHub e compartilhe o link desse projeto no campo ao lado para que outros desenvolvedores possam analisá-lo.\n",
    "'''\n",
    "\n",
    "\n",
    "\n",
    "while True:\n",
    "    nome = input(\"Por favor, insira o seu nome.\").strip().lower()\n",
    "    print(nome)     \n",
    "    try:\n",
    "        idade = int(input(\"Por favor, insira o seu ano de nascimento: \"))\n",
    "        if idade in range(1922, 2022):\n",
    "            print(\"Sua idade é: \", 2021 - idade)\n",
    "        else:\n",
    "            print(\"Você digitou um ano inválido. Por favor, insira um ano entre 1922 e 2021.\")\n",
    "    except:\n",
    "        print(\"Opa, você digitou uma informação diferente da solicitada. Por favor, tente novamente.\")\n",
    "        continue\n",
    "                \n",
    "    resposta = input(\"Deseja continuar (S/N)? \").strip().lower()    \n",
    "    if resposta == 's':\n",
    "        print(\"Beleza! Vamos continuar...\")\n",
    "    elif resposta == 'n':\n",
    "        print(\"Ok! Finalizamos.\")\n",
    "        break  \n",
    "    else:\n",
    "        print(\"Resposta inválida. Por favor, digite 'S' para continuar ou 'N' para parar.\")"
   ]
  },
  {
   "cell_type": "code",
   "execution_count": null,
   "metadata": {},
   "outputs": [],
   "source": []
  }
 ],
 "metadata": {
  "kernelspec": {
   "display_name": "Python 3",
   "language": "python",
   "name": "python3"
  },
  "language_info": {
   "codemirror_mode": {
    "name": "ipython",
    "version": 3
   },
   "file_extension": ".py",
   "mimetype": "text/x-python",
   "name": "python",
   "nbconvert_exporter": "python",
   "pygments_lexer": "ipython3",
   "version": "3.11.5"
  },
  "orig_nbformat": 4
 },
 "nbformat": 4,
 "nbformat_minor": 2
}
