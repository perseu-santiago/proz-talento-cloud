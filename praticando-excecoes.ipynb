{
 "cells": [
  {
   "cell_type": "code",
   "execution_count": 9,
   "metadata": {},
   "outputs": [
    {
     "name": "stdout",
     "output_type": "stream",
     "text": [
      "Insira um número par.\n",
      "O número é par.\n",
      "Continuando a execução...\n",
      "Insira um número par.\n",
      "O valor é impar.\n",
      "Continuando a execução...\n",
      "Insira um número par.\n",
      "Não foi digitado um número.\n",
      "Parando a execução.\n"
     ]
    }
   ],
   "source": [
    "'''\n",
    "\n",
    "Problema: Desenvolva um programa que só deve aceitar números pares. Siga as seguintes instruções:\n",
    "\n",
    "caso um número ímpar seja digitado, informe ao usuário que ele digitou um valor ímpar e peça novamente por um número par;\n",
    "\n",
    "caso uma letra seja digitada, informe ao usuário que ele digitou um caractere inválido e peça novamente por um número par.\n",
    "\n",
    "'''\n",
    "\n",
    "while True: # laço estabelece uma condição para continuar executando o código.\n",
    "    print(\"Insira um número par.\")\n",
    "    try:\n",
    "        valor = int(input())\n",
    "        if valor % 2 == 0:\n",
    "            print(\"O número é par.\")\n",
    "        else:\n",
    "            print(\"Você não digitou um número par. Por favor, insira outro número.\")\n",
    "    except:\n",
    "        print(\"Não foi digitado um número.\")\n",
    "            \n",
    "    resposta = input(\"Deseja continuar (S/N)? \")\n",
    "    \n",
    "    if resposta == 's':\n",
    "        print(\"Continuando a execução...\")\n",
    "    elif resposta == 'n':\n",
    "        print(\"Parando a execução.\")\n",
    "        break  \n",
    "    else:\n",
    "        print(\"Resposta inválida. Por favor, digite 'S' para continuar ou 'N' para parar.\")\n",
    "          \n",
    "        \n"
   ]
  }
 ],
 "metadata": {
  "kernelspec": {
   "display_name": "Python 3",
   "language": "python",
   "name": "python3"
  },
  "language_info": {
   "codemirror_mode": {
    "name": "ipython",
    "version": 3
   },
   "file_extension": ".py",
   "mimetype": "text/x-python",
   "name": "python",
   "nbconvert_exporter": "python",
   "pygments_lexer": "ipython3",
   "version": "3.11.5"
  },
  "orig_nbformat": 4
 },
 "nbformat": 4,
 "nbformat_minor": 2
}
